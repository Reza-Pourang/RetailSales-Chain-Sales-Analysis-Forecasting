{
  "nbformat": 4,
  "nbformat_minor": 0,
  "metadata": {
    "colab": {
      "provenance": []
    },
    "kernelspec": {
      "name": "python3",
      "display_name": "Python 3"
    },
    "language_info": {
      "name": "python"
    }
  },
  "cells": [
    {
      "cell_type": "code",
      "execution_count": null,
      "metadata": {
        "id": "0Oi-tPd5XCNo"
      },
      "outputs": [],
      "source": [
        "#Import necessary libraries\n",
        "import numpy as np\n",
        "import pandas as pd\n",
        "\n",
        "#Load the datasets and Create an ExcelFile object\n",
        "from google.colab import drive\n",
        "drive.mount('/content/drive')\n",
        "Data = pd.read_excel('/content/drive/MyDrive/Colab Notebooks/سالیانه زنجیره ای.xlsx')"
      ]
    },
    {
      "cell_type": "code",
      "source": [
        "#Initial check\n",
        "print(Data.head(5))\n",
        "print('\\n')\n",
        "print(Data.dtypes)\n",
        "print('\\n')\n",
        "print(Data.info())\n",
        "print('\\n')\n",
        "print(Data.isnull().sum())\n",
        "print('\\n')\n",
        "print(Data.duplicated().sum())"
      ],
      "metadata": {
        "id": "3yUgrKLpXaGf"
      },
      "execution_count": null,
      "outputs": []
    },
    {
      "cell_type": "code",
      "source": [
        "#Preprocessing - chose the valuable columns\n",
        "\n",
        "SelectedColumns = [ 'کد مشتری', 'کد فروشنده', 'کد کالا', 'نام مشتری', 'نام فروشگاه',\n",
        "                    'فروشنده', 'نام کالا', 'گروه کالا', 'ماه', 'سال', 'مبلغ فروش خالص',\n",
        "                    'قیمت واحد', 'تعداد فروش و جایزه-ظرف', 'تعداد فروش و جایزه-کارتن' ]\n",
        "\n",
        "NewData = Data[SelectedColumns]\n",
        "print(NewData.info())"
      ],
      "metadata": {
        "id": "4kLQLdpEXdIC"
      },
      "execution_count": null,
      "outputs": []
    },
    {
      "cell_type": "code",
      "source": [
        "#Preprocessing - rename the headers\n",
        "\n",
        "NewData.rename(columns={\n",
        "               'کد مشتری': 'CustomerCode',\n",
        "               'کد فروشنده': 'SellerCode',\n",
        "               'کد کالا': 'ProductCode',\n",
        "               'نام مشتری': 'CustomerName',\n",
        "               'نام فروشگاه': 'StoreName',\n",
        "               'فروشنده': 'SellerName',\n",
        "               'نام کالا': 'ProductName',\n",
        "               'گروه کالا': 'ProductGroup',\n",
        "               'ماه': 'Month',\n",
        "               'سال': 'Year',\n",
        "               'مبلغ فروش خالص': 'NetSales',\n",
        "               'قیمت واحد': 'UnitPrice',\n",
        "               'تعداد فروش و جایزه-ظرف': 'Units',\n",
        "               'تعداد فروش و جایزه-کارتن': 'Cartons'\n",
        "               }, inplace=True)\n",
        "\n",
        "print(NewData.info())"
      ],
      "metadata": {
        "id": "BU2O8pP1XgWl"
      },
      "execution_count": null,
      "outputs": []
    },
    {
      "cell_type": "code",
      "source": [
        "#Preprocessing - function to normalize Persian text\n",
        "\n",
        "import re\n",
        "\n",
        "#Function to manage the text\n",
        "def normalize_persian(text):\n",
        "    if not isinstance(text, str):\n",
        "        return None                     #Handle non-string values\n",
        "    text = text.strip()                 #Remove leading/trailing spaces\n",
        "    text = re.sub(r'\\s+', ' ', text)    #Replace multiple spaces with one\n",
        "    text = text.replace('ي', 'ی')       #Convert Arabic \"ي\" to Persian \"ی\"\n",
        "    text = text.replace('ك', 'ک')       #Convert Arabic \"ك\" to Persian \"ک\"\n",
        "    return text\n",
        "\n",
        "PersianMonths = {'فروردین': '01','اردیبهشت': '02','خرداد': '03','تیر': '04',\n",
        "                 'مرداد': '05','شهریور': '06','مهر': '07','آبان': '08',\n",
        "                 'آذر': '09','دی': '10','بهمن': '11','اسفند': '12'}\n",
        "\n",
        "#Normalize and debug 'Month' column\n",
        "NewData['Month'] = NewData['Month'].apply(normalize_persian)\n",
        "NewData['MonthNumeric'] = NewData['Month'].map(PersianMonths)\n",
        "NewData['MonthNumeric'].fillna('Unknown', inplace=True)\n",
        "NewData = NewData[NewData['MonthNumeric'] != 'Unknown']"
      ],
      "metadata": {
        "id": "XJpAkSCrY1Kb"
      },
      "execution_count": null,
      "outputs": []
    },
    {
      "cell_type": "code",
      "source": [
        "#Check\n",
        "print(\"Unique values in 'Month':\")\n",
        "print(NewData['MonthNumeric'].unique())\n",
        "print(NewData.info())"
      ],
      "metadata": {
        "id": "qfIq1BgBY1WE"
      },
      "execution_count": null,
      "outputs": []
    },
    {
      "cell_type": "code",
      "source": [
        "#Preprocessing - reorder rows by year\n",
        "\n",
        "NewData.sort_values(by='Year', ascending=True, inplace=True)\n",
        "print(NewData['Year'].head(30))"
      ],
      "metadata": {
        "id": "Kg4K5pnlb_9v"
      },
      "execution_count": null,
      "outputs": []
    },
    {
      "cell_type": "code",
      "source": [
        "#Preprocessing - define numeric codes for unique values\n",
        "\n",
        "NewData['StoreCode'] = NewData['StoreName'].astype('category').cat.codes\n",
        "NewData['ProductGroupCode'] = NewData['ProductGroup'].astype('category').cat.codes\n",
        "print(NewData.info())"
      ],
      "metadata": {
        "id": "HGd0dCa1c-ac"
      },
      "execution_count": null,
      "outputs": []
    },
    {
      "cell_type": "code",
      "source": [
        "#Preprocessing - remove dots in specific columns\n",
        "\n",
        "NewData['Cartons'] = NewData['Cartons'].astype(str).str.replace('.', '', regex=False)\n",
        "NewData['Units'] = NewData['Units'].astype(str).str.replace('.', '', regex=False)\n",
        "\n",
        "print(NewData[['Cartons', 'Units']].head(10))"
      ],
      "metadata": {
        "id": "WlNGYTgOfwOj"
      },
      "execution_count": null,
      "outputs": []
    },
    {
      "cell_type": "code",
      "source": [
        "#Preprocessing - change types of numeric columns\n",
        "\n",
        "NumericColumns = ['NetSales', 'UnitPrice', 'Units', 'Cartons']\n",
        "\n",
        "for column in NumericColumns:\n",
        "    NewData[column] = pd.to_numeric(NewData[column], errors='coerce')\n",
        "\n",
        "print(NewData.info())"
      ],
      "metadata": {
        "id": "K59HGCLcf5Gp"
      },
      "execution_count": null,
      "outputs": []
    },
    {
      "cell_type": "code",
      "source": [
        "#Preprocessing - keep identifiers as strings\n",
        "\n",
        "IdentifierColumns = ['CustomerCode', 'SellerCode', 'ProductCode', 'StoreCode', 'ProductGroupCode']\n",
        "\n",
        "for column in IdentifierColumns:\n",
        "    NewData[column] = NewData[column].astype(str)\n",
        "\n",
        "print(NewData.info())"
      ],
      "metadata": {
        "id": "BlbZhUmZhkGY"
      },
      "execution_count": null,
      "outputs": []
    },
    {
      "cell_type": "code",
      "source": [
        "#Preprocessing - convert year and month columns to integers\n",
        "\n",
        "NewData['Year'] = NewData['Year'].astype(int)\n",
        "NewData['MonthNumeric'] = NewData['MonthNumeric'].astype(int)\n",
        "\n",
        "print(NewData.info())"
      ],
      "metadata": {
        "id": "C5O1ISaah2Kc"
      },
      "execution_count": null,
      "outputs": []
    },
    {
      "cell_type": "code",
      "source": [
        "#Check\n",
        "\n",
        "print(NewData.isnull().sum())\n",
        "print('\\n')\n",
        "print(NewData.duplicated().sum())\n",
        "\n",
        "DuplicatesAllColumns = NewData[NewData.duplicated()]\n",
        "\n",
        "KeyColumns = ['CustomerCode', 'SellerCode', 'ProductCode', 'Month', 'Year']\n",
        "DuplicatesKeyColumns = NewData[NewData.duplicated(subset=KeyColumns)]\n",
        "\n",
        "print(\"Duplicates based on all columns:\")\n",
        "print(DuplicatesAllColumns)\n",
        "\n",
        "print(\"\\nDuplicates based on selected key columns:\")\n",
        "print(DuplicatesKeyColumns)"
      ],
      "metadata": {
        "id": "nq4CjqMjiKiH"
      },
      "execution_count": null,
      "outputs": []
    },
    {
      "cell_type": "code",
      "source": [
        "#Save the data to a dataframe and new csv file\n",
        "\n",
        "FilePath = '/content/drive/MyDrive/Colab Notebooks/ChainCleaned.csv'\n",
        "NewData.to_csv(FilePath, index=False)"
      ],
      "metadata": {
        "id": "wQQx0ZOElCgJ"
      },
      "execution_count": null,
      "outputs": []
    }
  ]
}